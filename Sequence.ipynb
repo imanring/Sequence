{
 "cells": [
  {
   "cell_type": "code",
   "execution_count": 135,
   "id": "d443a2fd-25bc-4ccd-940b-802aaf02dfb0",
   "metadata": {},
   "outputs": [],
   "source": [
    "import matplotlib.pyplot as plt\n",
    "import numpy as np\n",
    "\n",
    "class Sequence:\n",
    "    def __init__(self):\n",
    "        # (50,51) are wild jacks\n",
    "        # (48,49) are anti-wild jacks\n",
    "        self.deck = np.hstack((np.arange(52),np.arange(52)))\n",
    "\n",
    "        #represent the current state of the game\n",
    "        # 0 represents an empty space\n",
    "        # 1 represents a space with a black token\n",
    "        # -1 represents a space with a white token\n",
    "        self.tokens = np.zeros((10,10))\n",
    "\n",
    "        #randomly assign spaces on the board to cards.\n",
    "        board = np.concatenate((np.random.choice(self.deck[self.deck<48],len(self.deck)-8,replace=False),\n",
    "                                [-1]*4)).reshape(10,10)\n",
    "        board[9,-4:-1] = [board[0,0],board[0,9],board[9,0]]\n",
    "        board[0,0],board[0,9],board[9,0] = (-1,-1,-1)\n",
    "        self.board = board\n",
    "        \n",
    "        #draw cards for players\n",
    "        np.random.shuffle(self.deck)\n",
    "        self.deck_pos = len(self.deck)-1\n",
    "        self.hands = [self.deck[-5:],self.deck[-10:-5]]\n",
    "        self.deck_pos -= 10\n",
    "        self.turn = 1\n",
    "    \n",
    "    def play(self, play, player):\n",
    "        \"\"\"\n",
    "        Parameters:\n",
    "            play (tuple (int,(int,int)) ): play represented by card from hand and location on the board\n",
    "            player (int): which player is making the move? -1 or 1\n",
    "        \"\"\"\n",
    "        #if legal move\n",
    "        \n",
    "        #place or remove token\n",
    "        if self.hands[(player+1)//2][play[0]] in [48,49]:\n",
    "            self.tokens[play[1][0],play[1][1]] = 0\n",
    "        else:\n",
    "            self.tokens[play[1][0],play[1][1]] = player\n",
    "        \n",
    "        #draw card\n",
    "        self.hands[(player+1)//2][play[0]] = self.deck[self.deck_pos]\n",
    "        self.deck_pos -= 1\n",
    "\n",
    "        #if deck is empty\n",
    "            #reshuffle\n",
    "        \n",
    "        #change turns\n",
    "        self.turn = -1*self.turn\n",
    "    \n",
    "    def show_board(self):\n",
    "        cmap = plt.get_cmap('RdBu', 3)\n",
    "        plt.matshow(self.tokens,cmap=cmap,vmin=-1,vmax=1)\n",
    "        plt.colorbar(ticks=np.arange(-1,2))\n",
    "        plt.show()\n",
    "    \n",
    "    def get_moves(self,player):\n",
    "        moves = list()\n",
    "        j = 0\n",
    "        for card in self.hands[(player+1)//2]:\n",
    "            if card<48:\n",
    "                locs = np.stack(np.where(np.logical_and(self.board==card,self.tokens==0))).T\n",
    "            elif card < 50:\n",
    "                locs = np.stack(np.where(self.tokens==(-1*player))).T\n",
    "            else:\n",
    "                locs = np.stack(np.where(self.tokens==0)).T\n",
    "                #need to consider wild card locations\n",
    "            \n",
    "            for loc in locs:\n",
    "                moves.append((j,loc))\n",
    "            j += 1\n",
    "        return moves\n",
    "        \n",
    "    #def check_winner(self):\n",
    "        "
   ]
  },
  {
   "cell_type": "raw",
   "id": "9b646df4-47d2-4c42-9ced-3e5b42e3c09a",
   "metadata": {},
   "source": [
    "locations for wilds = np.delete(np.dstack(np.meshgrid(np.arange(10),np.arange(10))).reshape(-1,2),[0,9,90,99],axis=0)"
   ]
  },
  {
   "cell_type": "code",
   "execution_count": 136,
   "id": "8531db5a-1f2d-4a56-b047-560ca00a9334",
   "metadata": {},
   "outputs": [],
   "source": [
    "game = Sequence()"
   ]
  },
  {
   "cell_type": "code",
   "execution_count": 157,
   "id": "8f3c5a09-7bad-47af-bd9b-ebb3980487ef",
   "metadata": {},
   "outputs": [
    {
     "data": {
      "image/png": "[encoded data removed]",
      "text/plain": [
       "<Figure size 480x480 with 2 Axes>"
      ]
     },
     "metadata": {},
     "output_type": "display_data"
    }
   ],
   "source": [
    "game.show_board()"
   ]
  },
  {
   "cell_type": "code",
   "execution_count": 138,
   "id": "221d00ad-b7ce-4b93-b139-3c6e1c6bc08f",
   "metadata": {},
   "outputs": [
    {
     "name": "stdout",
     "output_type": "stream",
     "text": [
      "[[-1 26  8 24  7 17  0  3 19 -1]\n",
      " [34 47  9 18 31 32 22 10 34 12]\n",
      " [30 37 14 13 32  2 35 38  7 21]\n",
      " [ 4 42 25 27 45  8 15 10 27 46]\n",
      " [43 11 12 29  1 11 38  6 29 15]\n",
      " [37 22 16 17 44 23 31 23 41 24]\n",
      " [ 2 43 19 28 21 40  5 13  9  1]\n",
      " [26  4  0 42 16 39 47 36 33 14]\n",
      " [35 20 30 46 25 28  5 40 45 18]\n",
      " [-1 41 36 33 44 39  3  6 20 -1]]\n"
     ]
    }
   ],
   "source": [
    "print(game.board)"
   ]
  },
  {
   "cell_type": "code",
   "execution_count": 154,
   "id": "afde2c35-6f75-44da-9b77-dfd69e928049",
   "metadata": {},
   "outputs": [
    {
     "name": "stdout",
     "output_type": "stream",
     "text": [
      "[[ 0.  0.  0.  0.  0.  0.  0.  0.  0.  0.]\n",
      " [ 0.  0.  0.  0.  0.  0.  0.  0.  0.  0.]\n",
      " [ 0.  0.  0.  0.  0.  0.  0.  0.  0.  0.]\n",
      " [ 0.  0.  1.  0.  0.  0.  0.  0. -1.  0.]\n",
      " [ 0.  0.  0.  0.  0.  0.  0.  0.  0.  0.]\n",
      " [ 0.  0.  0.  0.  0.  0.  0.  0.  0.  0.]\n",
      " [ 0.  0.  0.  0.  0.  0.  0.  0.  0.  0.]\n",
      " [ 0.  0.  0.  0.  0.  0.  0.  0.  0.  0.]\n",
      " [ 1.  0.  0.  0.  0.  0.  0.  0.  0.  0.]\n",
      " [ 0.  0.  0.  0.  0.  0.  0.  0.  0.  0.]]\n"
     ]
    }
   ],
   "source": [
    "print(game.tokens)"
   ]
  },
  {
   "cell_type": "code",
   "execution_count": 140,
   "id": "d71c75d6-25f8-4783-a946-d11737013f96",
   "metadata": {},
   "outputs": [
    {
     "data": {
      "text/plain": [
       "array([33, 12, 25, 37, 35])"
      ]
     },
     "execution_count": 140,
     "metadata": {},
     "output_type": "execute_result"
    }
   ],
   "source": [
    "game.hands[1]"
   ]
  },
  {
   "cell_type": "code",
   "execution_count": 151,
   "id": "31dfdcf6-b531-4f3a-8fa3-c27d6b656dad",
   "metadata": {},
   "outputs": [
    {
     "data": {
      "text/plain": [
       "[(0, array([7, 8])),\n",
       " (0, array([9, 3])),\n",
       " (1, array([1, 9])),\n",
       " (1, array([4, 2])),\n",
       " (2, array([2, 3])),\n",
       " (2, array([6, 7])),\n",
       " (3, array([2, 1])),\n",
       " (3, array([5, 0])),\n",
       " (4, array([2, 6])),\n",
       " (4, array([8, 0]))]"
      ]
     },
     "execution_count": 151,
     "metadata": {},
     "output_type": "execute_result"
    }
   ],
   "source": [
    "moves = game.get_moves(1)\n",
    "moves"
   ]
  },
  {
   "cell_type": "code",
   "execution_count": 152,
   "id": "8c8ab6e8-e3c8-466c-b5a0-632cc202f5da",
   "metadata": {},
   "outputs": [],
   "source": [
    "game.play(moves[np.random.randint(len(moves))],1)"
   ]
  },
  {
   "cell_type": "code",
   "execution_count": 155,
   "id": "bb5e0d21-2ab6-4eea-af57-dedeef324014",
   "metadata": {},
   "outputs": [
    {
     "data": {
      "text/plain": [
       "[(0, array([7, 5])),\n",
       " (0, array([9, 5])),\n",
       " (1, array([8, 1])),\n",
       " (1, array([9, 8])),\n",
       " (2, array([5, 5])),\n",
       " (2, array([5, 7])),\n",
       " (3, array([1, 9])),\n",
       " (3, array([4, 2])),\n",
       " (4, array([0, 4])),\n",
       " (4, array([2, 8]))]"
      ]
     },
     "execution_count": 155,
     "metadata": {},
     "output_type": "execute_result"
    }
   ],
   "source": [
    "moves = game.get_moves(-1)\n",
    "moves"
   ]
  },
  {
   "cell_type": "code",
   "execution_count": 156,
   "id": "f737c243-710e-4d88-a416-8c95416ca369",
   "metadata": {},
   "outputs": [],
   "source": [
    "game.play(moves[np.random.randint(len(moves))],-1)"
   ]
  },
  {
   "cell_type": "code",
   "execution_count": null,
   "id": "8bca10c0-7882-45e0-9ef3-dcd3c9cb16c5",
   "metadata": {},
   "outputs": [],
   "source": []
  }
 ],
 "metadata": {
  "kernelspec": {
   "display_name": "Python 3 (ipykernel)",
   "language": "python",
   "name": "python3"
  },
  "language_info": {
   "codemirror_mode": {
    "name": "ipython",
    "version": 3
   },
   "file_extension": ".py",
   "mimetype": "text/x-python",
   "name": "python",
   "nbconvert_exporter": "python",
   "pygments_lexer": "ipython3",
   "version": "3.10.12"
  }
 },
 "nbformat": 4,
 "nbformat_minor": 5
}
