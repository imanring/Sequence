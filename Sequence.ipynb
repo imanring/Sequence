{
 "cells": [
  {
   "cell_type": "code",
   "execution_count": 55,
   "id": "d443a2fd-25bc-4ccd-940b-802aaf02dfb0",
   "metadata": {},
   "outputs": [],
   "source": [
    "import matplotlib.pyplot as plt\n",
    "import numpy as np\n",
    "from scipy.signal import convolve2d\n",
    "\n",
    "class Sequence:\n",
    "    def __init__(self):\n",
    "        # (50,51) are wild jacks\n",
    "        # (48,49) are anti-wild jacks\n",
    "        self.deck = np.hstack((np.arange(52),np.arange(52)))\n",
    "\n",
    "        #represent the current state of the game\n",
    "        # 0 represents an empty space\n",
    "        # 1 represents a space with a black token\n",
    "        # -1 represents a space with a white token\n",
    "        self.tokens = np.zeros((10,10))\n",
    "\n",
    "        #randomly assign spaces on the board to cards.\n",
    "        board = np.concatenate((np.random.choice(self.deck[self.deck<48],len(self.deck)-8,replace=False),\n",
    "                                [-1]*4)).reshape(10,10)\n",
    "        board[9,-4:-1] = [board[0,0],board[0,9],board[9,0]]\n",
    "        board[0,0],board[0,9],board[9,0] = (-1,-1,-1)\n",
    "        self.board = board\n",
    "        \n",
    "        #draw cards for players\n",
    "        np.random.shuffle(self.deck)\n",
    "        self.deck_pos = len(self.deck)-1\n",
    "        self.hands = [self.deck[-5:],self.deck[-10:-5]]\n",
    "        self.deck_pos -= 10\n",
    "        self.turn = 1\n",
    "    \n",
    "    def play(self, play, player):\n",
    "        \"\"\"\n",
    "        Parameters:\n",
    "            play (tuple (int,(int,int)) ): play represented by card from hand and location on the board\n",
    "            player (int): which player is making the move? -1 or 1\n",
    "        \"\"\"\n",
    "        #if legal move\n",
    "        \n",
    "        #place or remove token\n",
    "        if self.hands[(player+1)//2][play[0]] in [48,49]:\n",
    "            self.tokens[play[1][0],play[1][1]] = 0\n",
    "        else:\n",
    "            self.tokens[play[1][0],play[1][1]] = player\n",
    "        \n",
    "        #draw card\n",
    "        self.hands[(player+1)//2][play[0]] = self.deck[self.deck_pos]\n",
    "        self.deck_pos -= 1\n",
    "\n",
    "        #if deck is empty\n",
    "            #reshuffle\n",
    "        \n",
    "        #change turns\n",
    "        self.turn = -1*self.turn\n",
    "    \n",
    "    def show_board(self):\n",
    "        cmap = plt.get_cmap('RdBu', 3)\n",
    "        plt.matshow(self.tokens,cmap=cmap,vmin=-1,vmax=1)\n",
    "        plt.colorbar(ticks=np.arange(-1,2))\n",
    "        ticks = np.arange(11)-0.5\n",
    "        plt.xticks(ticks)\n",
    "        plt.yticks(ticks)\n",
    "        plt.grid()\n",
    "        plt.show()\n",
    "    \n",
    "    def get_moves(self,player):\n",
    "        moves = list()\n",
    "        j = 0\n",
    "        for card in self.hands[(player+1)//2]:\n",
    "            if card<48:\n",
    "                locs = np.stack(np.where(np.logical_and(self.board==card,self.tokens==0))).T\n",
    "            elif card < 50:\n",
    "                locs = np.stack(np.where(self.tokens==(-1*player))).T\n",
    "            else:\n",
    "                locs = np.stack(np.where(self.tokens==0)).T\n",
    "                #need to consider wild card locations\n",
    "            \n",
    "            for loc in locs:\n",
    "                moves.append((j,loc))\n",
    "            j += 1\n",
    "        return moves\n",
    "        \n",
    "    def check_winner(self):\n",
    "        kernels = [np.diag(np.ones(5)),np.flip(np.diag(np.ones(5)),axis=0),np.ones(5).reshape(5,-1),np.ones(5).reshape(-1,5)]\n",
    "        for k in kernels:\n",
    "            conv = convolve2d(self.tokens,k,mode='valid')\n",
    "            sol = np.stack(np.where(conv==5)).T\n",
    "            if len(sol) > 0:\n",
    "                return 1\n",
    "            sol = np.stack(np.where(conv==-5)).T\n",
    "            if len(sol) > 0:\n",
    "                return -1\n",
    "        return 0\n",
    "    \n",
    "    def score_move(self,play,player):\n",
    "        kernels = [np.diag(np.ones(5)),np.flip(np.diag(np.ones(5)),axis=0),np.ones(5).reshape(5,-1),np.ones(5).reshape(-1,5)]\n",
    "        new_board = self.tokens.copy()\n",
    "        #place or remove token\n",
    "        if self.hands[(player+1)//2][play[0]] in [48,49]:\n",
    "            new_board[play[1][0],play[1][1]] = 0\n",
    "        else:\n",
    "            new_board[play[1][0],play[1][1]] = player\n",
    "        \n",
    "        temp = new_board.copy()\n",
    "        temp[temp==-1] = -5\n",
    "        bcounts = np.zeros(4)\n",
    "        for k in kernels:\n",
    "            conv = convolve2d(temp,k,mode='valid')\n",
    "            for i in range(4):\n",
    "                bcounts[i] += (conv==(i+1)).sum()\n",
    "\n",
    "        temp = new_board.copy()*-1\n",
    "        temp[temp==-1] = -5\n",
    "        wcounts = np.zeros(4)\n",
    "        for k in kernels:\n",
    "            conv = convolve2d(temp,k,mode='valid')\n",
    "            for i in range(4):\n",
    "                wcounts[i] += (conv==(i+1)).sum()\n",
    "        weights = np.power(np.ones(4)*3, np.arange(4)+1)\n",
    "        return (weights @ bcounts - weights @ wcounts)*player"
   ]
  },
  {
   "cell_type": "code",
   "execution_count": 129,
   "id": "0d1a7b14",
   "metadata": {
    "scrolled": true
   },
   "outputs": [],
   "source": [
    "game = Sequence()\n",
    "i = 0\n",
    "while game.check_winner()==0:\n",
    "    player = (-1)**i\n",
    "    moves = game.get_moves(player)\n",
    "    \n",
    "    if player == -1:\n",
    "        scores = list()\n",
    "        for move in moves:\n",
    "            scores.append(game.score_move(move,player))\n",
    "        game.play(moves[np.argmax(scores)],player)\n",
    "    else:\n",
    "        game.play(moves[np.random.randint(len(moves))],player)\n",
    "    #game.show_board()\n",
    "    i += 1"
   ]
  },
  {
   "cell_type": "code",
   "execution_count": 130,
   "id": "8df65db9",
   "metadata": {},
   "outputs": [
    {
     "data": {
      "text/plain": [
       "-1"
      ]
     },
     "execution_count": 130,
     "metadata": {},
     "output_type": "execute_result"
    }
   ],
   "source": [
    "game.check_winner()"
   ]
  },
  {
   "cell_type": "code",
   "execution_count": 135,
   "id": "21c726bf",
   "metadata": {},
   "outputs": [
    {
     "data": {
      "image/png": "[encoded data removed]",
      "text/plain": [
       "<Figure size 480x480 with 2 Axes>"
      ]
     },
     "metadata": {},
     "output_type": "display_data"
    }
   ],
   "source": [
    "game.show_board()"
   ]
  },
  {
   "cell_type": "code",
   "execution_count": 133,
   "id": "8667d7db",
   "metadata": {},
   "outputs": [
    {
     "data": {
      "text/plain": [
       "0.19047619047619047"
      ]
     },
     "execution_count": 133,
     "metadata": {},
     "output_type": "execute_result"
    }
   ],
   "source": [
    "data = np.array([1,-1,-1,-1,-1,-1,-1,1,1,-1,-1,-1,-1,-1,-1,-1,-1,-1,1,-1,-1])\n",
    "data = (data+1)/2\n",
    "data.mean()"
   ]
  },
  {
   "cell_type": "raw",
   "id": "9b646df4-47d2-4c42-9ced-3e5b42e3c09a",
   "metadata": {},
   "source": [
    "locations for wilds = np.delete(np.dstack(np.meshgrid(np.arange(10),np.arange(10))).reshape(-1,2),[0,9,90,99],axis=0)"
   ]
  }
 ],
 "metadata": {
  "kernelspec": {
   "display_name": "Python 3 (ipykernel)",
   "language": "python",
   "name": "python3"
  },
  "language_info": {
   "codemirror_mode": {
    "name": "ipython",
    "version": 3
   },
   "file_extension": ".py",
   "mimetype": "text/x-python",
   "name": "python",
   "nbconvert_exporter": "python",
   "pygments_lexer": "ipython3",
   "version": "3.10.12"
  }
 },
 "nbformat": 4,
 "nbformat_minor": 5
}
