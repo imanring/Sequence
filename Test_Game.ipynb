{
 "cells": [
  {
   "cell_type": "code",
   "execution_count": 1,
   "id": "43aa566c-1419-4504-818b-1e75823a43e9",
   "metadata": {},
   "outputs": [],
   "source": [
    "import numpy as np\n",
    "import torch\n",
    "from torch import nn\n",
    "from game import *"
   ]
  },
  {
   "cell_type": "code",
   "execution_count": 2,
   "id": "fd69f995-a8a2-4a6b-958d-7b54542ef9e7",
   "metadata": {},
   "outputs": [
    {
     "name": "stdout",
     "output_type": "stream",
     "text": [
      "There are 14 parameters in the model.\n",
      "h_scorer(\n",
      "  (d1): Linear(in_features=14, out_features=1, bias=False)\n",
      ")\n"
     ]
    }
   ],
   "source": [
    "class h_scorer(nn.Module):\n",
    "    def __init__(self):\n",
    "        super().__init__()\n",
    "        self.d1 = nn.Linear(14, 1,bias=False)\n",
    "    \n",
    "    def forward(self,x):\n",
    "        return self.d1(x)\n",
    "model = h_scorer()\n",
    "checkpoint = torch.load('lin_4999_2_5.pth')\n",
    "model.load_state_dict(checkpoint) \n",
    "loss_fn = torch.nn.MSELoss()\n",
    "optimizer = torch.optim.Adam(model.parameters(), lr=0.001)\n",
    "num_par = sum([l.numel() for l in model.parameters() if l.requires_grad])\n",
    "print(f\"There are {num_par} parameters in the model.\")\n",
    "print(model)"
   ]
  },
  {
   "cell_type": "code",
   "execution_count": 3,
   "id": "87053d88-bfc6-4e55-b45d-7c022f0d43fd",
   "metadata": {},
   "outputs": [],
   "source": [
    "def Q_play(game,print_scores=False):\n",
    "    moves = game.get_moves()\n",
    "    scores = np.zeros(len(moves))\n",
    "    for i in range(len(moves)):\n",
    "        x = game.prepare_input(moves,i)\n",
    "        scores[i] = model(x.unsqueeze(0)).item()\n",
    "    if print_scores:\n",
    "        print(scores)\n",
    "    return moves[np.argmax(scores)]\n",
    "\n",
    "def h_play(game):\n",
    "    moves = game.get_moves()\n",
    "    scores = np.zeros(len(moves))\n",
    "    for i in range(len(moves)):\n",
    "        scores[i] = game.try_score(moves[i])*game.turn\n",
    "    return moves[np.argmax(scores)]\n",
    "\n",
    "def r_play(game):\n",
    "    moves = game.get_moves()\n",
    "    return moves[np.random.choice(np.arange(len(moves)))]\n",
    "\n",
    "def user_play(game):\n",
    "    moves = game.get_moves()\n",
    "    print(game.hands[(game.turn+1)//2])\n",
    "    game.show_moves(moves)\n",
    "    suc = False\n",
    "    while not suc:\n",
    "        try:\n",
    "            x = int(input(\"Enter move you would like to play: \"))\n",
    "            suc = True\n",
    "        except:\n",
    "            print(\"Error Please enter a valid number!\")\n",
    "            pass\n",
    "    return moves[x]\n",
    "\n",
    "game_hist = list()\n",
    "def comp_players(p1,p2,show_board=False):\n",
    "    game = Sequence()\n",
    "    i = 0\n",
    "    while game.check_winner()==0:\n",
    "        if i%2 == 0:\n",
    "            move = p1(game)\n",
    "            game.play(move)\n",
    "        else:\n",
    "            move = p2(game)\n",
    "            gh.append(game.prepare_input(moves,ind))\n",
    "            game.play(move)\n",
    "        i += 1\n",
    "    if show_board:\n",
    "        game.show_board()\n",
    "    return game.check_winner()"
   ]
  },
  {
   "cell_type": "code",
   "execution_count": null,
   "id": "6dc5c631-c326-43ab-9d81-adaf959861b3",
   "metadata": {
    "scrolled": true
   },
   "outputs": [
    {
     "name": "stdout",
     "output_type": "stream",
     "text": [
      "[47 19 32 32 19]\n"
     ]
    },
    {
     "data": {
      "image/png": "[encoded data removed]",
      "text/plain": [
       "<Figure size 480x480 with 2 Axes>"
      ]
     },
     "metadata": {},
     "output_type": "display_data"
    }
   ],
   "source": [
    "comp_players(user_play,Q_play,show_board=True)"
   ]
  },
  {
   "cell_type": "code",
   "execution_count": null,
   "id": "a4d509b4-a861-49be-9cdf-c7cefc1dc121",
   "metadata": {},
   "outputs": [],
   "source": []
  }
 ],
 "metadata": {
  "kernelspec": {
   "display_name": "Python 3 (ipykernel)",
   "language": "python",
   "name": "python3"
  },
  "language_info": {
   "codemirror_mode": {
    "name": "ipython",
    "version": 3
   },
   "file_extension": ".py",
   "mimetype": "text/x-python",
   "name": "python",
   "nbconvert_exporter": "python",
   "pygments_lexer": "ipython3",
   "version": "3.8.10"
  }
 },
 "nbformat": 4,
 "nbformat_minor": 5
}
