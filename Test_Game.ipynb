{
 "cells": [
  {
   "cell_type": "code",
   "execution_count": 4,
   "id": "43aa566c-1419-4504-818b-1e75823a43e9",
   "metadata": {},
   "outputs": [],
   "source": [
    "import numpy as np\n",
    "import torch\n",
    "from torch import nn\n",
    "from game import *"
   ]
  },
  {
   "cell_type": "code",
   "execution_count": 5,
   "id": "fd69f995-a8a2-4a6b-958d-7b54542ef9e7",
   "metadata": {},
   "outputs": [
    {
     "name": "stdout",
     "output_type": "stream",
     "text": [
      "There are 14 parameters in the model.\n",
      "h_scorer(\n",
      "  (d1): Linear(in_features=14, out_features=1, bias=False)\n",
      ")\n"
     ]
    }
   ],
   "source": [
    "class h_scorer(nn.Module):\n",
    "    def __init__(self):\n",
    "        super().__init__()\n",
    "        self.d1 = nn.Linear(14, 1,bias=False)\n",
    "    \n",
    "    def forward(self,x):\n",
    "        return self.d1(x)\n",
    "model = h_scorer()\n",
    "checkpoint = torch.load('lin_4999_2_5.pth')\n",
    "model.load_state_dict(checkpoint) \n",
    "loss_fn = torch.nn.MSELoss()\n",
    "optimizer = torch.optim.Adam(model.parameters(), lr=0.001)\n",
    "num_par = sum([l.numel() for l in model.parameters() if l.requires_grad])\n",
    "print(f\"There are {num_par} parameters in the model.\")\n",
    "print(model)"
   ]
  },
  {
   "cell_type": "code",
   "execution_count": 6,
   "id": "87053d88-bfc6-4e55-b45d-7c022f0d43fd",
   "metadata": {},
   "outputs": [],
   "source": [
    "def Q_play(game,print_scores=False):\n",
    "    moves = game.get_moves()\n",
    "    scores = np.zeros(len(moves))\n",
    "    for i in range(len(moves)):\n",
    "        x = game.prepare_input(moves,i)\n",
    "        scores[i] = model(x.unsqueeze(0)).item()\n",
    "    if print_scores:\n",
    "        print(scores)\n",
    "    return moves[np.argmax(scores)]\n",
    "\n",
    "def h_play(game):\n",
    "    moves = game.get_moves()\n",
    "    scores = np.zeros(len(moves))\n",
    "    for i in range(len(moves)):\n",
    "        scores[i] = game.try_score(moves[i])*game.turn\n",
    "    return moves[np.argmax(scores)]\n",
    "\n",
    "def r_play(game):\n",
    "    moves = game.get_moves()\n",
    "    return moves[np.random.choice(np.arange(len(moves)))]\n",
    "\n",
    "def user_play(game):\n",
    "    moves = game.get_moves()\n",
    "    print(game.hands[(game.turn+1)//2])\n",
    "    game.show_moves(moves)\n",
    "    suc = False\n",
    "    while not suc:\n",
    "        try:\n",
    "            x = int(input(\"Enter move you would like to play: \"))\n",
    "            suc = True\n",
    "        except:\n",
    "            print(\"Error Please enter a valid number!\")\n",
    "            pass\n",
    "    return moves[x]\n",
    "\n",
    "game_hist = list()\n",
    "def comp_players(p1,p2,show_board=False):\n",
    "    game = Sequence()\n",
    "    i = 0\n",
    "    while game.check_winner()==0:\n",
    "        if i%2 == 0:\n",
    "            move = p1(game)\n",
    "            game.play(move)\n",
    "        else:\n",
    "            move = p2(game)\n",
    "            game.play(move)\n",
    "        i += 1\n",
    "    if show_board:\n",
    "        game.show_board()\n",
    "    return game.check_winner()"
   ]
  },
  {
   "cell_type": "code",
   "execution_count": 7,
   "id": "c9391a90-cf43-4eae-b953-69b7a934d1b4",
   "metadata": {
    "scrolled": true
   },
   "outputs": [
    {
     "name": "stdout",
     "output_type": "stream",
     "text": [
      "[39 43 49 13 17]\n"
     ]
    },
    {
     "data": {
      "image/png": "[encoded data removed]",
      "text/plain": [
       "<Figure size 480x480 with 2 Axes>"
      ]
     },
     "metadata": {},
     "output_type": "display_data"
    },
    {
     "name": "stdin",
     "output_type": "stream",
     "text": [
      "Enter move you would like to play:  1\n"
     ]
    },
    {
     "ename": "NameError",
     "evalue": "name 'gh' is not defined",
     "output_type": "error",
     "traceback": [
      "\u001b[0;31m---------------------------------------------------------------------------\u001b[0m",
      "\u001b[0;31mNameError\u001b[0m                                 Traceback (most recent call last)",
      "Cell \u001b[0;32mIn[7], line 1\u001b[0m\n\u001b[0;32m----> 1\u001b[0m \u001b[43mcomp_players\u001b[49m\u001b[43m(\u001b[49m\u001b[43muser_play\u001b[49m\u001b[43m,\u001b[49m\u001b[43mQ_play\u001b[49m\u001b[43m,\u001b[49m\u001b[43mshow_board\u001b[49m\u001b[38;5;241;43m=\u001b[39;49m\u001b[38;5;28;43;01mTrue\u001b[39;49;00m\u001b[43m)\u001b[49m\n",
      "Cell \u001b[0;32mIn[6], line 46\u001b[0m, in \u001b[0;36mcomp_players\u001b[0;34m(p1, p2, show_board)\u001b[0m\n\u001b[1;32m     44\u001b[0m \u001b[38;5;28;01melse\u001b[39;00m:\n\u001b[1;32m     45\u001b[0m     move \u001b[38;5;241m=\u001b[39m p2(game)\n\u001b[0;32m---> 46\u001b[0m     \u001b[43mgh\u001b[49m\u001b[38;5;241m.\u001b[39mappend(game\u001b[38;5;241m.\u001b[39mprepare_input(moves,ind))\n\u001b[1;32m     47\u001b[0m     game\u001b[38;5;241m.\u001b[39mplay(move)\n\u001b[1;32m     48\u001b[0m i \u001b[38;5;241m+\u001b[39m\u001b[38;5;241m=\u001b[39m \u001b[38;5;241m1\u001b[39m\n",
      "\u001b[0;31mNameError\u001b[0m: name 'gh' is not defined"
     ]
    }
   ],
   "source": [
    "comp_players(user_play,Q_play,show_board=True)"
   ]
  },
  {
   "cell_type": "code",
   "execution_count": null,
   "id": "0d47c578-40bb-42e9-8f3d-438aaffc4055",
   "metadata": {},
   "outputs": [],
   "source": []
  }
 ],
 "metadata": {
  "kernelspec": {
   "display_name": "Python 3 (ipykernel)",
   "language": "python",
   "name": "python3"
  },
  "language_info": {
   "codemirror_mode": {
    "name": "ipython",
    "version": 3
   },
   "file_extension": ".py",
   "mimetype": "text/x-python",
   "name": "python",
   "nbconvert_exporter": "python",
   "pygments_lexer": "ipython3",
   "version": "3.8.10"
  }
 },
 "nbformat": 4,
 "nbformat_minor": 5
}
