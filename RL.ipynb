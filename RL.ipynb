{
 "cells": [
  {
   "cell_type": "markdown",
   "id": "f21bc574-b827-4fe3-87a0-a6bc33b1e6e3",
   "metadata": {},
   "source": [
    "## Simplified Game Engine\n",
    "- No free spaces at the edge.\n",
    "- Only going to 1 sequence.\n",
    "\n",
    "Game description: https://en.wikipedia.org/wiki/Sequence_(game)"
   ]
  },
  {
   "cell_type": "code",
   "execution_count": 54,
   "id": "f224cf08-9087-42bd-929c-f98d2f38dc97",
   "metadata": {
    "editable": true,
    "slideshow": {
     "slide_type": ""
    },
    "tags": []
   },
   "outputs": [],
   "source": [
    "import matplotlib.pyplot as plt\n",
    "import numpy as np\n",
    "from scipy.signal import convolve2d\n",
    "import torch\n",
    "from scipy.special import softmax\n",
    "from tqdm import tqdm\n",
    "from game import *"
   ]
  },
  {
   "cell_type": "markdown",
   "id": "ce003262-8dc9-4706-9962-b7b652710e3f",
   "metadata": {},
   "source": [
    "## CNN Model"
   ]
  },
  {
   "cell_type": "code",
   "execution_count": 2,
   "id": "07990919-3b45-4f0d-90e2-c732cf7919be",
   "metadata": {
    "editable": true,
    "slideshow": {
     "slide_type": ""
    },
    "tags": []
   },
   "outputs": [],
   "source": [
    "from torch import nn\n",
    "\n",
    "class seq_scorer(nn.Module):\n",
    "    def __init__(self):\n",
    "        super().__init__()\n",
    "        self.conv1 = nn.Conv2d(3, 16, kernel_size=(5,5), stride=1, padding='same')\n",
    "        self.act1 = nn.ReLU()\n",
    "        #self.drop1 = nn.Dropout(0.3)\n",
    "        self.pool1 = nn.MaxPool2d(kernel_size=(2, 2))\n",
    "        self.conv2 = nn.Conv2d(16, 16, kernel_size=(3,3), stride=1)\n",
    "        self.act2 = nn.ReLU()\n",
    "        self.pool2 = nn.MaxPool2d(kernel_size=(2, 2))\n",
    "        self.flat = nn.Flatten()\n",
    "        self.fc3 = nn.Linear(16, 25)\n",
    "        self.act3 = nn.ReLU()\n",
    "        self.drop3 = nn.Dropout(0.15)\n",
    "        self.fc4 = nn.Linear(25, 1)\n",
    "\n",
    "    def forward(self,board):\n",
    "        \"\"\"\n",
    "        Score the state to pick a move.\n",
    "        Parameters\n",
    "        ----------\n",
    "        board: [3x10x10]\n",
    "            State of the board with tokens. 'black' tokens are in the first layer, 'white' tokens are in the second layer\n",
    "        \"\"\"\n",
    "        b = self.conv1(board)\n",
    "        b = self.pool1(self.act1(b))\n",
    "        b = self.conv2(b)\n",
    "        b = self.pool2(self.act2(b))\n",
    "        b = self.flat(b)\n",
    "        o = self.fc3(b)\n",
    "        o = self.act3(o)\n",
    "        o = self.drop3(o)\n",
    "        o = self.fc4(o)\n",
    "        return o"
   ]
  },
  {
   "cell_type": "code",
   "execution_count": 3,
   "id": "0c103f35-5ef0-47f7-a47f-f4ecc6b280f7",
   "metadata": {
    "collapsed": true,
    "editable": true,
    "jupyter": {
     "outputs_hidden": true
    },
    "scrolled": true,
    "slideshow": {
     "slide_type": ""
    },
    "tags": []
   },
   "outputs": [
    {
     "name": "stdout",
     "output_type": "stream",
     "text": [
      "There are 3987 parameters in the model.\n",
      "seq_scorer(\n",
      "  (conv1): Conv2d(3, 16, kernel_size=(5, 5), stride=(1, 1), padding=same)\n",
      "  (act1): ReLU()\n",
      "  (pool1): MaxPool2d(kernel_size=(2, 2), stride=(2, 2), padding=0, dilation=1, ceil_mode=False)\n",
      "  (conv2): Conv2d(16, 16, kernel_size=(3, 3), stride=(1, 1))\n",
      "  (act2): ReLU()\n",
      "  (pool2): MaxPool2d(kernel_size=(2, 2), stride=(2, 2), padding=0, dilation=1, ceil_mode=False)\n",
      "  (flat): Flatten(start_dim=1, end_dim=-1)\n",
      "  (fc3): Linear(in_features=16, out_features=25, bias=True)\n",
      "  (act3): ReLU()\n",
      "  (drop3): Dropout(p=0.15, inplace=False)\n",
      "  (fc4): Linear(in_features=25, out_features=1, bias=True)\n",
      ")\n"
     ]
    }
   ],
   "source": [
    "model = seq_scorer()\n",
    "loss_fn = torch.nn.MSELoss()\n",
    "optimizer = torch.optim.Adam(model.parameters(),lr=0.001)\n",
    "#optimizer = torch.optim.SGD(model.parameters(), lr=0.0002, momentum=0.9,weight_decay=0.1)\n",
    "num_par = sum([l.numel() for l in model.parameters() if l.requires_grad])\n",
    "print(f\"There are {num_par} parameters in the model.\")\n",
    "print(model)"
   ]
  },
  {
   "cell_type": "code",
   "execution_count": 17,
   "id": "494e3bca-36d9-492a-82cd-c4fb5ae88155",
   "metadata": {},
   "outputs": [
    {
     "data": {
      "text/plain": [
       "<All keys matched successfully>"
      ]
     },
     "execution_count": 17,
     "metadata": {},
     "output_type": "execute_result"
    }
   ],
   "source": [
    "checkpoint = torch.load('models/cur.pth')\n",
    "model.load_state_dict(checkpoint) "
   ]
  },
  {
   "cell_type": "code",
   "execution_count": 67,
   "id": "47a5cc3c-fa5c-46ea-ab4f-9d38ea6c08c3",
   "metadata": {},
   "outputs": [],
   "source": [
    "from torch import nn\n",
    "class h_scorer(nn.Module):\n",
    "    def __init__(self):\n",
    "        super().__init__()\n",
    "        self.d1 = nn.Linear(14, 1,bias=False)\n",
    "    \n",
    "    def forward(self,x):\n",
    "        return self.d1(x)"
   ]
  },
  {
   "cell_type": "code",
   "execution_count": 68,
   "id": "13ca946b-22d9-4964-abd8-50e6e0f07c0c",
   "metadata": {},
   "outputs": [
    {
     "name": "stdout",
     "output_type": "stream",
     "text": [
      "There are 14 parameters in the model.\n",
      "h_scorer(\n",
      "  (d1): Linear(in_features=14, out_features=1, bias=False)\n",
      ")\n"
     ]
    }
   ],
   "source": [
    "model = h_scorer()\n",
    "loss_fn = torch.nn.MSELoss()\n",
    "optimizer = torch.optim.Adam(model.parameters(), lr=0.001)\n",
    "num_par = sum([l.numel() for l in model.parameters() if l.requires_grad])\n",
    "print(f\"There are {num_par} parameters in the model.\")\n",
    "print(model)"
   ]
  },
  {
   "cell_type": "code",
   "execution_count": 69,
   "id": "d4a14651-1381-4c5e-812f-b9218634d65f",
   "metadata": {},
   "outputs": [
    {
     "data": {
      "text/plain": [
       "<All keys matched successfully>"
      ]
     },
     "execution_count": 69,
     "metadata": {},
     "output_type": "execute_result"
    }
   ],
   "source": [
    "checkpoint = torch.load('models/Linear/lin_999.pth')\n",
    "model.load_state_dict(checkpoint) "
   ]
  },
  {
   "cell_type": "markdown",
   "id": "c6f918d2-b4f0-43fa-9f74-5b33f2fc226e",
   "metadata": {},
   "source": [
    "## Train Model With TD($\\lambda$) Algorithm\n",
    "\n",
    "Play full game with rewards."
   ]
  },
  {
   "cell_type": "code",
   "execution_count": null,
   "id": "bd84be05-a8c6-4f16-8138-68146ba58180",
   "metadata": {
    "scrolled": true
   },
   "outputs": [],
   "source": [
    "# Temporal Difference\n",
    "import copy\n",
    "from tqdm import tqdm\n",
    "num_games = 5000\n",
    "gamma = 0.98\n",
    "\n",
    "loss_hist = list()\n",
    "\n",
    "model.train()\n",
    "for g in tqdm(range(num_games)):\n",
    "    game = Sequence()\n",
    "    game_completed = False\n",
    "    batch = list()\n",
    "    lab = list()\n",
    "    if g % 200 == 199:\n",
    "        plt.plot(loss_hist)\n",
    "        plt.show()\n",
    "        torch.save(model.state_dict(), f'models/Linear/lin_{g}.pth')\n",
    "    while not game_completed:\n",
    "        #print(\"T\",100/(g+1)**0.5)\n",
    "        move, moves = game.sample_action(model,T=10/(g+1)**0.5)\n",
    "        if len(moves) == 0:\n",
    "            break\n",
    "        s_p = game.prepare_input(moves,move)\n",
    "        game.play(moves[move],change_turn=False)\n",
    "        R = game.check_winner()*10*game.turn\n",
    "        if R != 0 or (game.deck_pos) < 0:\n",
    "            game_completed = True\n",
    "            target = R\n",
    "        else:\n",
    "            target = R\n",
    "        batch.append(s_p)\n",
    "        lab.append(torch.tensor([target],dtype=torch.float32))\n",
    "        game.turn *= -1\n",
    "        if R != 0:\n",
    "            moves = game.get_moves()\n",
    "            batch.append(game.prepare_input(moves,0))\n",
    "            lab.append(torch.tensor([R*-1],dtype=torch.float32))\n",
    "    optimizer.zero_grad()\n",
    "    x = torch.stack(batch)\n",
    "    r = torch.stack(lab)\n",
    "    tot_bat = list()\n",
    "    tot_lab = list()\n",
    "    blue = torch.arange(0,len(x),2)\n",
    "    red = torch.arange(1,len(x),2)\n",
    "    b_dif = r[blue.max()]*((gamma)**(len(blue)-blue/2-1))\n",
    "    r_dif = r[red.max()]*((gamma)**(len(red)-red/2-.5))\n",
    "    Y = torch.cat((b_dif.unsqueeze(1),r_dif.unsqueeze(1)))\n",
    "    X = torch.cat((x[blue],x[red]))\n",
    "    V = model(X)\n",
    "    loss = loss_fn(V, Y)\n",
    "    loss_hist.append(loss.item())\n",
    "    loss.backward()\n",
    "    # Adjust learning weights\n",
    "    optimizer.step()"
   ]
  },
  {
   "cell_type": "code",
   "execution_count": 73,
   "id": "58929db3-5bc0-4bea-b7a6-960bd9fc5813",
   "metadata": {},
   "outputs": [
    {
     "data": {
      "text/plain": [
       "[<matplotlib.lines.Line2D at 0x7f65a3f46520>]"
      ]
     },
     "execution_count": 73,
     "metadata": {},
     "output_type": "execute_result"
    },
    {
     "data": {
      "image/png": "[encoded data removed]",
      "text/plain": [
       "<Figure size 640x480 with 1 Axes>"
      ]
     },
     "metadata": {},
     "output_type": "display_data"
    }
   ],
   "source": [
    "plt.plot(model(X).detach()-Y)"
   ]
  },
  {
   "cell_type": "code",
   "execution_count": 181,
   "id": "502a7b22-7d55-4203-be4d-2f1c9e4a4182",
   "metadata": {},
   "outputs": [
    {
     "data": {
      "text/plain": [
       "[Parameter containing:\n",
       " tensor([[ 0.0330,  0.0846,  0.1717,  0.4427, -0.0392, -0.0716, -0.2571, -0.4096,\n",
       "           0.0378,  0.0860]], requires_grad=True)]"
      ]
     },
     "execution_count": 181,
     "metadata": {},
     "output_type": "execute_result"
    }
   ],
   "source": [
    "pars = [p for p in model.parameters()]\n",
    "pars"
   ]
  },
  {
   "cell_type": "code",
   "execution_count": 74,
   "id": "be047f10-fab4-4d0a-92d9-c460baaa0f2f",
   "metadata": {},
   "outputs": [
    {
     "data": {
      "text/plain": [
       "[Parameter containing:\n",
       " tensor([[ 0.0782,  0.1319,  0.2657,  0.5170, -0.0873, -0.1315, -0.2892, -0.5896,\n",
       "          -0.0325, -0.0223,  0.0470,  0.0769, -0.0579,  0.1044]],\n",
       "        requires_grad=True)]"
      ]
     },
     "execution_count": 74,
     "metadata": {},
     "output_type": "execute_result"
    }
   ],
   "source": [
    "pars = [p for p in model.parameters()]\n",
    "pars"
   ]
  },
  {
   "cell_type": "code",
   "execution_count": 15,
   "id": "8ebad9e8-5ece-47e3-8868-2dc186729a70",
   "metadata": {},
   "outputs": [],
   "source": [
    "torch.save(model.state_dict(), f'models/cur.pth')"
   ]
  },
  {
   "cell_type": "code",
   "execution_count": 27,
   "id": "39ed5ee8-4fff-4a63-9844-120bfbbe72ca",
   "metadata": {},
   "outputs": [
    {
     "data": {
      "image/png": "[encoded data removed]",
      "text/plain": [
       "<Figure size 640x480 with 1 Axes>"
      ]
     },
     "metadata": {},
     "output_type": "display_data"
    }
   ],
   "source": [
    "def moving_avg(n=5):\n",
    "    avg = np.zeros(len(loss_hist))\n",
    "    for i in range(len(loss_hist)):\n",
    "        avg[i] = np.mean(loss_hist[max(0,i-n):i])\n",
    "    return avg\n",
    "plt.plot(moving_avg(n=100))\n",
    "plt.show()"
   ]
  },
  {
   "cell_type": "markdown",
   "id": "b811828f-59c8-44a2-8984-f3f68efdf1a1",
   "metadata": {},
   "source": [
    "## Evaluate Performance Against Other Players"
   ]
  },
  {
   "cell_type": "code",
   "execution_count": 75,
   "id": "27b4764a-d02d-4160-b0cb-1b8d684ac007",
   "metadata": {
    "editable": true,
    "slideshow": {
     "slide_type": ""
    },
    "tags": []
   },
   "outputs": [],
   "source": [
    "def TD_play(game,print_scores=False):\n",
    "    moves = game.get_moves()\n",
    "    scores = np.zeros(len(moves))\n",
    "    for i in range(len(moves)):\n",
    "        x = game.prepare_input(moves,i)\n",
    "        scores[i] = model(x.unsqueeze(0)).item()\n",
    "    if print_scores:\n",
    "        print(scores)\n",
    "    return moves[np.argmax(scores)]\n",
    "\n",
    "def h_play(game):\n",
    "    moves = game.get_moves()\n",
    "    scores = np.zeros(len(moves))\n",
    "    for i in range(len(moves)):\n",
    "        scores[i] = game.try_score(moves[i])*game.turn\n",
    "    return moves[np.argmax(scores)]\n",
    "\n",
    "def r_play(game):\n",
    "    moves = game.get_moves()\n",
    "    return moves[np.random.choice(np.arange(len(moves)))]\n",
    "\n",
    "def comp_players(p1,p2,show_board=False):\n",
    "    game = Sequence()\n",
    "    i = 0\n",
    "    while game.check_winner()==0:\n",
    "        if i%2 == 0:\n",
    "            move = p1(game)\n",
    "            game.play(move)\n",
    "        else:\n",
    "            move = p2(game)\n",
    "            game.play(move)\n",
    "        i += 1\n",
    "        if show_board:\n",
    "            game.show_board()\n",
    "    return game.check_winner()"
   ]
  },
  {
   "cell_type": "code",
   "execution_count": 76,
   "id": "50515f81-bae8-4ce2-a6dd-0cd94db9d452",
   "metadata": {
    "editable": true,
    "slideshow": {
     "slide_type": ""
    },
    "tags": []
   },
   "outputs": [],
   "source": [
    "from scipy.stats import norm\n",
    "\n",
    "#run experiment comparing\n",
    "def run_exp(n,p1,p2):\n",
    "    rslts = np.zeros(n)\n",
    "    for i in tqdm(range(n)):\n",
    "        rslts[i] = comp_players(p1,p2)\n",
    "        #print(rslts[i])\n",
    "    rslts = (rslts+1)/2\n",
    "    n = ((rslts==1).sum()+(rslts==0).sum())\n",
    "    p = (rslts==1).sum()/n\n",
    "    return n,p\n",
    "\n",
    "def eq_test(p,n):\n",
    "    z = (p-.5)/(.25/n)**0.5\n",
    "    return z, norm.cdf(z)"
   ]
  },
  {
   "cell_type": "code",
   "execution_count": 77,
   "id": "25b0b020-a523-4d35-b881-188aa3f38109",
   "metadata": {
    "editable": true,
    "slideshow": {
     "slide_type": ""
    },
    "tags": []
   },
   "outputs": [
    {
     "name": "stderr",
     "output_type": "stream",
     "text": [
      "100%|███████████████████████████████████████████████████████████████████████████████████| 97/97 [00:12<00:00,  8.03it/s]\n"
     ]
    },
    {
     "data": {
      "text/plain": [
       "(0.7282608695652174, 4.37880269519857, 0.9999940333445922)"
      ]
     },
     "execution_count": 77,
     "metadata": {},
     "output_type": "execute_result"
    }
   ],
   "source": [
    "#power analysis\n",
    "n = int(np.ceil((1.96/.1)**2*.25))\n",
    "model.eval()\n",
    "n,p = run_exp(n,TD_play,r_play)\n",
    "z,p_val = eq_test(p,n)\n",
    "p, z, p_val"
   ]
  },
  {
   "cell_type": "code",
   "execution_count": 78,
   "id": "cbb0f152-de8a-4ff5-b8bd-cca70db5fa96",
   "metadata": {},
   "outputs": [
    {
     "name": "stderr",
     "output_type": "stream",
     "text": [
      "100%|█████████████████████████████████████████████████████████████████████████████████| 385/385 [01:15<00:00,  5.09it/s]\n"
     ]
    },
    {
     "data": {
      "text/plain": [
       "(0.5558912386706949, 2.0337039267384585, 0.9790092719917663)"
      ]
     },
     "execution_count": 78,
     "metadata": {},
     "output_type": "execute_result"
    }
   ],
   "source": [
    "n = int(np.ceil((1.96/.05)**2*.25))\n",
    "model.eval()\n",
    "n,p = run_exp(n,TD_play,h_play)\n",
    "z,p_val = eq_test(p,n)\n",
    "p, z, p_val"
   ]
  },
  {
   "cell_type": "code",
   "execution_count": null,
   "id": "4d2d5330-ab17-4687-9d03-7ef66afc490c",
   "metadata": {},
   "outputs": [],
   "source": []
  }
 ],
 "metadata": {
  "kernelspec": {
   "display_name": "Python 3 (ipykernel)",
   "language": "python",
   "name": "python3"
  },
  "language_info": {
   "codemirror_mode": {
    "name": "ipython",
    "version": 3
   },
   "file_extension": ".py",
   "mimetype": "text/x-python",
   "name": "python",
   "nbconvert_exporter": "python",
   "pygments_lexer": "ipython3",
   "version": "3.8.10"
  }
 },
 "nbformat": 4,
 "nbformat_minor": 5
}
